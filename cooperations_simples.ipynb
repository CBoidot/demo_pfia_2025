{
 "cells": [
  {
   "cell_type": "markdown",
   "id": "e9e843b8-08c3-4ea9-99be-b951728f1a3a",
   "metadata": {},
   "source": [
    "# Étude de l'interaction humain-IA sous l'hypothèse de l'humain moyen\n",
    "\n",
    "J'effectue ci-dessous de premières hypothèses (invérifiables pour l'instant) qui vont participer à dessiner mon modèle ontologique.\n",
    "Je vais ensuite simuler une intégration naïve de l'IA au sein de mon activité, qui est en fait une activité collective de décision (métaphore des tâches de guerre des mines dont nous étudions la transformation par l'IA).\n",
    "\n",
    "## Ontologie\n",
    "\n",
    "- Agent\n",
    "On suppose qu'il existe une forme de consensus entre experts, qui n'est pas indépendant de la nature humaine et de ses émotions.\n",
    "Nous générons d'avance cet \"humain moyen\" hypothétique.\n",
    "Il va nous permettre de représenter en partie ce fait que l'IA est entraînée à partir des avis de nombreux experts, et qu'elle constitue ainsi une reproduction sans hésitation de cet expert moyen, particulièrement fiable.\n",
    "  - les opérateurs humains sont des agents,\n",
    "  - l''expert moyen est aussi représenté comme agent, p\n",
    "  - l'IA est un agent,\n",
    "  - techniquement, la même classe va servir à engendrer notre vérité terrain, comme si elle était une \"décision\", mais cette génération aléatoire ne dépend pas des autres.\n",
    "\n",
    "- Influence entre agents\n",
    "Au départ, il y a une part d'aléa dans toutes les réponses d'agent que nous simulons.\n",
    "L'influence suppose qu'une probabilité d'un agent soit altérée par la décision d'un autre agent.\n",
    "Cette autre décision doit être déjà réalisée, cela pose des questions de séquentialité à l'implémentation (voir vclassifier.py pour le détail).\n",
    "\n"
   ]
  },
  {
   "cell_type": "code",
   "execution_count": 1,
   "id": "0e1e91ee-228b-4ded-9254-295ce82d53ba",
   "metadata": {},
   "outputs": [],
   "source": [
    "from vclassifier import VTernaryClassifier\n",
    "import numpy as np"
   ]
  },
  {
   "cell_type": "markdown",
   "id": "71ec0bc7-4e9b-4032-a1f7-81cf674fe208",
   "metadata": {},
   "source": [
    "## Construction de la simulation"
   ]
  },
  {
   "cell_type": "code",
   "execution_count": 2,
   "id": "53f7ef80",
   "metadata": {},
   "outputs": [],
   "source": [
    "N=100\n",
    "truth = VTernaryClassifier('reality').pred(N)"
   ]
  },
  {
   "cell_type": "markdown",
   "id": "6516fd16-61f0-4c92-ba74-12be05c261ac",
   "metadata": {},
   "source": [
    "Nous aurons un humain moyen avec beucoup de non-décision, afin que les agents réels gardent une marge de manœuvre pur exprimer leurs caractéristiques propres.\n",
    "<!-- Cela met en exergue la liberté individuelle, qui trouve plus d'occasions de chercher la vérité par soi-même, que de la chercher en poursuivant le consensus.-->"
   ]
  },
  {
   "cell_type": "code",
   "execution_count": 3,
   "id": "c0741b08-e079-4b9c-bf52-936ae2639b7a",
   "metadata": {
    "jupyter": {
     "source_hidden": true
    }
   },
   "outputs": [],
   "source": [
    "humain_moyen = VTernaryClassifier('moyen',\n",
    "                               correlates={'reality':5},\n",
    "                               p_neutral=.1)\n",
    "#print(agent.get_proba(0))"
   ]
  },
  {
   "cell_type": "code",
   "execution_count": 4,
   "id": "3d613bf4-c334-4543-b888-43265f34b742",
   "metadata": {},
   "outputs": [],
   "source": [
    "ia = VTernaryClassifier('ia',\n",
    "                               correlates={'moyen':10,'reality':1},\n",
    "                               )"
   ]
  },
  {
   "cell_type": "markdown",
   "id": "523fd3ed-e3e9-47c1-a083-5edda7aecb26",
   "metadata": {},
   "source": [
    "Nous aurons trois agents humains, plus ou moins indécis, avec un superviseur, appelé uniquement en cas de désaccord des premiers.\n",
    "<!-- C'est formellement un vote. Sauf qu'on l'optimise pour trois personnes. Le fait que le superviseur soit plus compétent est accessoire, en fait. -->"
   ]
  },
  {
   "cell_type": "code",
   "execution_count": 5,
   "id": "542cbef9-06b6-4d2d-81fd-b1f803ccaf5a",
   "metadata": {},
   "outputs": [],
   "source": [
    "opérateur1 = VTernaryClassifier('o1',\n",
    "                               correlates={'reality':1.5,'moyen':4},\n",
    "                               p_neutral=.08)\n",
    "opérateur2 = VTernaryClassifier('o2',\n",
    "                               correlates={'reality':2,'moyen':4.5},\n",
    "                               p_neutral=.12)\n",
    "superviseur = VTernaryClassifier('sup',\n",
    "                               correlates={'reality':2.5,'moyen':5.5},\n",
    "                               p_neutral=.06)"
   ]
  },
  {
   "cell_type": "markdown",
   "id": "dcf79795-3688-40c4-97fc-f68616517355",
   "metadata": {},
   "source": [
    "## Mesures de justesse individuelles"
   ]
  },
  {
   "cell_type": "code",
   "execution_count": 6,
   "id": "fa1d30bc-67b6-41bf-abb4-5d1e153cf725",
   "metadata": {
    "jupyter": {
     "source_hidden": true
    }
   },
   "outputs": [],
   "source": [
    "def justesse(pred,truth):\n",
    "    return np.mean(pred[~np.isnan(pred)]==truth[~np.isnan(pred)])"
   ]
  },
  {
   "cell_type": "code",
   "execution_count": 7,
   "id": "0818a9fd-bb4b-43bb-bbeb-3ed04d6354e5",
   "metadata": {},
   "outputs": [],
   "source": [
    "vrais_agents = [ia,opérateur1,opérateur2,superviseur]\n",
    "justesses = [justesse(x.pred(N),truth) for x in vrais_agents]"
   ]
  },
  {
   "cell_type": "code",
   "execution_count": 8,
   "id": "615974bb-9da2-4b83-82d6-20b070366215",
   "metadata": {},
   "outputs": [
    {
     "data": {
      "text/plain": [
       "{'ia': np.float64(0.83),\n",
       " 'o1': np.float64(0.78125),\n",
       " 'o2': np.float64(0.8210526315789474),\n",
       " 'sup': np.float64(0.7777777777777778)}"
      ]
     },
     "execution_count": 8,
     "metadata": {},
     "output_type": "execute_result"
    }
   ],
   "source": [
    "dict(zip([a.name for a in vrais_agents],justesses))"
   ]
  },
  {
   "cell_type": "markdown",
   "id": "2435e390-48ff-4087-9772-5663bca8bb44",
   "metadata": {},
   "source": [
    "Nous avons ici un cas typique où l'IA prouve (en moyenne) sa supériorité en imitant un consensus humain, relativement maîtrisé par les opérateurs en tant que collectif.\n",
    "<!-- Et si c'est pas le cas, je relance le code ! c'est pour l'illustration. -->"
   ]
  },
  {
   "cell_type": "markdown",
   "id": "4522f0ab-bfdf-444a-b683-852af8ebbc67",
   "metadata": {},
   "source": [
    "## L'union fait-elle la force ?\n",
    "On veut désormais coder le processus de prise de décision collective.\n",
    "Cette procédure s'apparente à un \"vote\". \n",
    "Je pars d'une inférence au faux positifs pour les cas d'hésitation du superviseur.\n",
    "Pour les opérateurs, je suppose qu'ils prennent conseil auprès du superviseur.\n",
    "(Dès lors, l'hypothèse que ce dernier soit plus expert va commencer à jouer.)"
   ]
  },
  {
   "cell_type": "code",
   "execution_count": 9,
   "id": "cf984a31-97bb-4ab4-84ef-218320d62392",
   "metadata": {},
   "outputs": [],
   "source": [
    "def fillna(pred,value):\n",
    "    pred[np.isnan(pred)] = value\n",
    "    return pred\n",
    "\n",
    "def vote(p1,p2,p3):\n",
    "    p3 = fillna(p3,1)\n",
    "    p1,p2 = fillna(p1,p3[np.isnan(p1)]),fillna(p2,p3[np.isnan(p2)])\n",
    "    return np.quantile([p1,p2,p3],q=.5,axis=0)"
   ]
  },
  {
   "cell_type": "code",
   "execution_count": 10,
   "id": "b22c3829-4fee-42e9-9536-a6f09f96ad90",
   "metadata": {
    "jupyter": {
     "source_hidden": true
    }
   },
   "outputs": [],
   "source": [
    "decision_commune = vote(opérateur1.pred(N),opérateur2.pred(N),superviseur.pred(N))"
   ]
  },
  {
   "cell_type": "code",
   "execution_count": 11,
   "id": "87555d41-2dc2-4472-b302-d5de97c10dbb",
   "metadata": {
    "jupyter": {
     "source_hidden": true
    }
   },
   "outputs": [
    {
     "data": {
      "text/plain": [
       "array([1., 0., 0., 1., 0., 1., 0., 0., 1., 1., 0., 1., 0., 1., 0., 1., 0.,\n",
       "       1., 0., 0., 1., 0., 0., 0., 0., 0., 0., 1., 0., 1., 0., 0., 0., 0.,\n",
       "       1., 0., 1., 0., 1., 1., 0., 1., 0., 0., 0., 1., 1., 1., 1., 0., 1.,\n",
       "       0., 0., 1., 1., 1., 0., 1., 1., 0., 0., 0., 1., 0., 1., 0., 1., 0.,\n",
       "       0., 0., 0., 1., 0., 0., 1., 0., 1., 1., 0., 0., 0., 1., 1., 0., 1.,\n",
       "       1., 0., 0., 0., 1., 0., 0., 0., 1., 1., 1., 1., 0., 1., 1.])"
      ]
     },
     "execution_count": 11,
     "metadata": {},
     "output_type": "execute_result"
    }
   ],
   "source": [
    "decision_commune"
   ]
  },
  {
   "cell_type": "code",
   "execution_count": 12,
   "id": "73a16f5b-dc5a-4c97-8a15-063a35a8862f",
   "metadata": {
    "jupyter": {
     "source_hidden": true
    }
   },
   "outputs": [
    {
     "data": {
      "text/plain": [
       "np.float64(0.84)"
      ]
     },
     "execution_count": 12,
     "metadata": {},
     "output_type": "execute_result"
    }
   ],
   "source": [
    "justesse(decision_commune,truth)"
   ]
  },
  {
   "cell_type": "markdown",
   "id": "519ff17d-4549-458c-9f64-fc456352f07c",
   "metadata": {},
   "source": [
    "Cette performance de 84% par le vote dépasse celle de l'IA.\n",
    "<!-- Non, je ne ferais plus de commentaire sur la vacuité de ces nombres. -->"
   ]
  },
  {
   "cell_type": "code",
   "execution_count": 13,
   "id": "0ccabefb-7d73-40f9-8ebc-68bc0e364a43",
   "metadata": {
    "jupyter": {
     "source_hidden": true
    }
   },
   "outputs": [],
   "source": [
    "justesses = [justesse(fillna(x.pred(N),1),truth) for x in [ia,opérateur1,opérateur2,superviseur]]"
   ]
  },
  {
   "cell_type": "code",
   "execution_count": 14,
   "id": "8806a8b2-22a6-4c4b-a4cd-2f9465cdc758",
   "metadata": {},
   "outputs": [
    {
     "data": {
      "text/plain": [
       "[np.float64(0.83), np.float64(0.78), np.float64(0.82), np.float64(0.78)]"
      ]
     },
     "execution_count": 14,
     "metadata": {},
     "output_type": "execute_result"
    }
   ],
   "source": [
    "justesses"
   ]
  },
  {
   "cell_type": "markdown",
   "id": "9b5bef96-9870-47c8-ac4d-f8c53ec3cb20",
   "metadata": {},
   "source": [
    "<!-- (J'ai peut-être créé des humains trop aléatoires...) -->\n",
    "Je vais maintenant me permettre de répliquer l'expérience pour avoir des stats."
   ]
  },
  {
   "cell_type": "markdown",
   "id": "831b1ecc-f3f8-49eb-82f9-dc8242263e39",
   "metadata": {},
   "source": [
    "## Statistiques de performance"
   ]
  },
  {
   "cell_type": "code",
   "execution_count": 15,
   "id": "25407d31-d18c-46d1-a261-80f9b97da70f",
   "metadata": {
    "jupyter": {
     "source_hidden": true
    }
   },
   "outputs": [
    {
     "name": "stderr",
     "output_type": "stream",
     "text": [
      "100%|████████████████████████████████████████| 200/200 [00:00<00:00, 231.30it/s]\n"
     ]
    }
   ],
   "source": [
    "#from vclassifier import VTernaryClassifier\n",
    "from tqdm import tqdm\n",
    "\n",
    "preds = []\n",
    "N = 200 # longueur du rail en décision\n",
    "N_simu = 200 # nb de reproduction de la simulation\n",
    "\n",
    "#VTernaryClassifier._clean_instances()\n",
    "\n",
    "common_truth = VTernaryClassifier('real').pred(N)\n",
    "\n",
    "justesses = []\n",
    "\n",
    "for i in tqdm(range(N_simu)):\n",
    "    humain_moyen = VTernaryClassifier('moyen'+str(i),\n",
    "                               correlates={'real':5},\n",
    "                               p_neutral=.1)\n",
    "    ia = VTernaryClassifier('ia'+str(i),\n",
    "                               correlates={'moyen'+str(i):10,'real':1},\n",
    "                               )\n",
    "    opérateur1 = VTernaryClassifier('o1'+str(i),\n",
    "                               correlates={'real':1.5,'moyen'+str(i):4},\n",
    "                               p_neutral=.08)\n",
    "    opérateur2 = VTernaryClassifier('o2'+str(i),\n",
    "                               correlates={'real':2,'moyen'+str(i):5},\n",
    "                               p_neutral=.12)\n",
    "    superviseur = VTernaryClassifier('sup'+str(i),\n",
    "                               correlates={'real':2.5,'moyen'+str(i):5},\n",
    "                               p_neutral=.05)\n",
    "    preds = [a.pred(N) for a in [ia,opérateur1,opérateur2,superviseur]]\n",
    "    decision_commune = vote(preds[1],preds[2],preds[3])\n",
    "    preds.append(decision_commune)\n",
    "    justesses.append([justesse(x,common_truth) for x in preds])\n",
    "    #VTernaryClassifier._clean_instances()\n",
    "    #VTernaryClassifier.instances['reality'] = truth\n"
   ]
  },
  {
   "cell_type": "code",
   "execution_count": 16,
   "id": "acbc5e54-6fe6-47bc-93b8-734765c0c011",
   "metadata": {},
   "outputs": [
    {
     "data": {
      "image/png": "[encoded data removed]",
      "text/plain": [
       "<Figure size 640x480 with 1 Axes>"
      ]
     },
     "metadata": {},
     "output_type": "display_data"
    }
   ],
   "source": [
    "%matplotlib inline\n",
    "import matplotlib.pyplot as plt\n",
    "\n",
    "plt.hist(np.array(justesses)[:,0], bins=30,label='IA',alpha=.7)\n",
    "plt.hist(np.array(justesses)[:,-1], bins=30,label='vote_humain',alpha=.7)\n",
    "plt.legend()\n",
    "plt.show()"
   ]
  },
  {
   "cell_type": "code",
   "execution_count": 17,
   "id": "72a4f50e-5617-4ffd-9d00-5c659dccee27",
   "metadata": {},
   "outputs": [
    {
     "data": {
      "text/plain": [
       "array([0.787225, 0.7592  , 0.774625, 0.770475, 0.814475])"
      ]
     },
     "execution_count": 17,
     "metadata": {},
     "output_type": "execute_result"
    }
   ],
   "source": [
    "np.mean(justesses,axis=0)"
   ]
  },
  {
   "cell_type": "markdown",
   "id": "e59d7f9b-8afe-4b9f-9474-cdd4262c14f1",
   "metadata": {},
   "source": [
    "Dans l'ordre ci-dessus : les performances moyennes de l'IA qui semble dominer, à 79%, puis nos trois humains, puis le vote humain qui bat en moyenne l'IA (81% de justesse)."
   ]
  },
  {
   "cell_type": "markdown",
   "id": "44777e67-aec3-43b0-afa5-f422dfdd2356",
   "metadata": {},
   "source": [
    "# Intégration de l'IA au système de vote"
   ]
  },
  {
   "cell_type": "markdown",
   "id": "c7e5d8a9-8b79-46c7-86fb-1c22cfe5f997",
   "metadata": {},
   "source": [
    "Je reprends la simu d'au dessus afin d'avoir une comparaison exacte.\n",
    "On garde le même fonctionnement a priori, c'est-à-dire qu'il y a un chef expérimenté que n'intervient dans le vote qu'en cas de désaccord, et c'est l'un des opérateur (ou le superviseur) qu'on remplace par un automate."
   ]
  },
  {
   "cell_type": "code",
   "execution_count": 18,
   "id": "b45bbc8e-0e45-4f27-84f1-fbfef27b4139",
   "metadata": {
    "jupyter": {
     "source_hidden": true
    }
   },
   "outputs": [
    {
     "name": "stderr",
     "output_type": "stream",
     "text": [
      "100%|███████████████████████████████████████| 200/200 [00:00<00:00, 4821.45it/s]\n"
     ]
    }
   ],
   "source": [
    "j_remplacement = []\n",
    "for i in tqdm(range(N_simu)):\n",
    "    preds = [x for x in [VTernaryClassifier.get_pred('ia'+str(i),N=N),\n",
    "                                 VTernaryClassifier.get_pred('o1'+str(i),N=N),\n",
    "                                 VTernaryClassifier.get_pred('o2'+str(i),N=N),\n",
    "                                 VTernaryClassifier.get_pred('sup'+str(i),N=N)]]\n",
    "    r1 = vote(preds[0],preds[2],preds[3])\n",
    "    r2 = vote(preds[1],preds[0],preds[3])\n",
    "    r3 = vote(preds[1],preds[2],preds[0])\n",
    "    j_remplacement.append([justesse(x,common_truth) for x in [r1,r2,r3]])"
   ]
  },
  {
   "cell_type": "code",
   "execution_count": 19,
   "id": "649188f3-6785-4a5d-a8ed-ff3ac7e03c9b",
   "metadata": {
    "jupyter": {
     "source_hidden": true
    }
   },
   "outputs": [
    {
     "data": {
      "text/plain": [
       "array([0.8204  , 0.819425, 0.82145 ])"
      ]
     },
     "execution_count": 19,
     "metadata": {},
     "output_type": "execute_result"
    }
   ],
   "source": [
    "np.mean(j_remplacement,axis=0)"
   ]
  },
  {
   "cell_type": "markdown",
   "id": "af7c3fc7-7da2-4301-9b98-18d960fc5cbd",
   "metadata": {},
   "source": [
    "Pour rappel, l'IA seule faisant moins bien, et tous ces votes font mieux que le vote interhumain.\n",
    "Il semble que l'introduction de l'IA apporte une effet coopératif à la qualité de la décision.\n",
    "\n",
    "Ce faisant, on n'aurait potentiellement plus qu'une seule décision humaine à prendre systématiquement, et on chercherait le superviseur en cas de désaccord avec l'IA."
   ]
  },
  {
   "cell_type": "code",
   "execution_count": 20,
   "id": "91d8ee9d-12fd-4681-88aa-f9dda766b7a8",
   "metadata": {},
   "outputs": [
    {
     "data": {
      "text/plain": [
       "array([0.02840201, 0.02987658, 0.02776661, 0.02920444, 0.02619827])"
      ]
     },
     "execution_count": 20,
     "metadata": {},
     "output_type": "execute_result"
    }
   ],
   "source": [
    "np.std(justesses,axis=0)"
   ]
  },
  {
   "cell_type": "code",
   "execution_count": 21,
   "id": "4e262ec4-3c4e-4016-a832-e982e2aa44a2",
   "metadata": {},
   "outputs": [
    {
     "data": {
      "text/plain": [
       "array([0.02771444, 0.02707941, 0.02721484])"
      ]
     },
     "execution_count": 21,
     "metadata": {},
     "output_type": "execute_result"
    }
   ],
   "source": [
    "np.std(j_remplacement,axis=0)"
   ]
  },
  {
   "cell_type": "markdown",
   "id": "c7642449-a40e-4a33-8fbc-dff44c2292eb",
   "metadata": {},
   "source": [
    "C'est... très similaire. \n",
    "Notre simulation ne donne pas d'argument contre une IA dans le vote.\n",
    "<!-- Au contraire, son point de vue très consensuel permet de \"centrer\" un vote qui, autrement, s'effectue sur un trop petit nombre d'individus.\n",
    "\n",
    "Une hypothèse malheureuse du travail précédent, c'était d'avoir une seule réalité et pourtant un consensus humain différent dans chaque simulation... Essayons autrement.-->\n",
    "L'écart-type sur la performance finale aurait pu constituer un avis contre ce changement."
   ]
  },
  {
   "cell_type": "markdown",
   "id": "3333c1b2-36fc-4fe9-b89b-37afd1912ad2",
   "metadata": {},
   "source": [
    "# Simulation de variance"
   ]
  },
  {
   "cell_type": "code",
   "execution_count": 22,
   "id": "dfc65398-7051-4168-9fb7-c5a5d6a4cd1c",
   "metadata": {
    "jupyter": {
     "source_hidden": true
    }
   },
   "outputs": [
    {
     "name": "stderr",
     "output_type": "stream",
     "text": [
      "100%|████████████████████████████████████████| 200/200 [00:00<00:00, 304.33it/s]\n"
     ]
    }
   ],
   "source": [
    "preds = []\n",
    "N = 200 # longueur du rail en décision\n",
    "N_simu = 200 # nb de reproduction de la simulation\n",
    "\n",
    "#VTernaryClassifier._clean_instances()\n",
    "\n",
    "var_truth = VTernaryClassifier('real_v').pred(N)\n",
    "var_moyen = VTernaryClassifier('moyen_v',\n",
    "                               correlates={'real_v':6},\n",
    "                               p_neutral=.1)\n",
    "justesses = []\n",
    "\n",
    "for i in tqdm(range(N_simu)):\n",
    "    \n",
    "    ia = VTernaryClassifier('ia_v'+str(i),\n",
    "                               correlates={'moyen_v':11},\n",
    "                               )\n",
    "    opérateur1 = VTernaryClassifier('o1_v'+str(i),\n",
    "                               correlates={'real_v':1.5,'moyen_v':4},\n",
    "                               p_neutral=.08)\n",
    "    opérateur2 = VTernaryClassifier('o2_v'+str(i),\n",
    "                               correlates={'real_v':2,'moyen_v':5},\n",
    "                               p_neutral=.12)\n",
    "    superviseur = VTernaryClassifier('sup_v'+str(i),\n",
    "                               correlates={'real_v':2.5,'moyen_v':6},\n",
    "                               p_neutral=.05)\n",
    "    preds = [a.pred(N) for a in [ia,opérateur1,opérateur2,superviseur]]\n",
    "    decision_commune = vote(preds[1],preds[2],preds[3])\n",
    "    preds.append(decision_commune)\n",
    "    preds.append(vote(preds[0],preds[2],preds[3]))\n",
    "    preds.append(vote(preds[1],preds[0],preds[3]))\n",
    "    preds.append(vote(preds[1],preds[2],preds[0]))\n",
    "    justesses.append([justesse(x,var_truth) for x in preds])"
   ]
  },
  {
   "cell_type": "code",
   "execution_count": 23,
   "id": "778d4254-afa4-48d9-b141-086438d68424",
   "metadata": {},
   "outputs": [
    {
     "data": {
      "text/plain": [
       "array([0.795125, 0.763425, 0.78045 , 0.7769  , 0.8216  , 0.827375,\n",
       "       0.82605 , 0.829525])"
      ]
     },
     "execution_count": 23,
     "metadata": {},
     "output_type": "execute_result"
    }
   ],
   "source": [
    "np.mean(justesses,axis=0)"
   ]
  },
  {
   "cell_type": "markdown",
   "id": "6a8683aa-dfc7-453c-9941-236345dbe5cf",
   "metadata": {},
   "source": [
    "Je rappelle l'ordre:\n",
    "IA, opé1, opé2, chef, vote humain, puis les trois votes avec IA."
   ]
  },
  {
   "cell_type": "code",
   "execution_count": 24,
   "id": "806d0903-3e30-416f-a4f0-870ea594c726",
   "metadata": {
    "jupyter": {
     "source_hidden": true
    }
   },
   "outputs": [
    {
     "data": {
      "text/plain": [
       "array([0.017302  , 0.02526152, 0.02390183, 0.02526638, 0.01759801,\n",
       "       0.01639312, 0.01646656, 0.01454817])"
      ]
     },
     "execution_count": 24,
     "metadata": {},
     "output_type": "execute_result"
    }
   ],
   "source": [
    "np.std(justesses,axis=0)"
   ]
  },
  {
   "cell_type": "markdown",
   "id": "98b1f3c4-e49a-4960-a8c8-83d223f1bcf7",
   "metadata": {},
   "source": [
    "Tous les votes diminuent la variance... mais certains plus que d'autre.\n",
    "De façon intéressante, mon modèle ontologique fait que la variance de l'IA est plus faible que celle d'un humain, mais que le vote de trois humains suffit déjà à rattraper cet écart — ie: constituer une aussi bonne image de l'expert moyen.\n",
    "Cependant, il semble que l'introduction de l'IA dans le vote ne peut qu'accélérer cette convergence, ce qui se voit par une variance légèrement réduite — surtout dans le cas où l'IA prend la place du superviseur.\n",
    "De là à dire qu'il s'agit d'un \"bénéfice\" du vote IA, ça me semble exagéré."
   ]
  },
  {
   "cell_type": "code",
   "execution_count": null,
   "id": "bffacefd-d9ac-4db3-9e65-4d3fcbfbc69e",
   "metadata": {
    "collapsed": true,
    "jupyter": {
     "outputs_hidden": true
    }
   },
   "outputs": [],
   "source": []
  },
  {
   "cell_type": "code",
   "execution_count": null,
   "id": "2bfc3e6e-88a5-46ca-bb46-7469a16d5a83",
   "metadata": {},
   "outputs": [],
   "source": []
  }
 ],
 "metadata": {
  "kernelspec": {
   "display_name": "Python 3 (ipykernel)",
   "language": "python",
   "name": "python3"
  },
  "language_info": {
   "codemirror_mode": {
    "name": "ipython",
    "version": 3
   },
   "file_extension": ".py",
   "mimetype": "text/x-python",
   "name": "python",
   "nbconvert_exporter": "python",
   "pygments_lexer": "ipython3",
   "version": "3.12.9"
  }
 },
 "nbformat": 4,
 "nbformat_minor": 5
}

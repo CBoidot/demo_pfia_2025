{
 "cells": [
  {
   "cell_type": "markdown",
   "id": "e9e843b8-08c3-4ea9-99be-b951728f1a3a",
   "metadata": {},
   "source": [
    "# Étude de classification humaine commune face à l'AI\n",
    "<!--Auteur : corentin.boidot@ecole-navale.fr -->\n",
    "Le contexte cible est celui de la reconnaissance de cible, à partir d'image radar, réalisée par deux opérateurs et un superviseur.\n",
    "Dans le cadre du projet CoMAIA, on envisage l'intégration d'un logiciel avec ATR, ayant aussi le potentiel d'effectuer cette classification binaire.\n",
    "\n",
    "Dans un premier temps (ce document), on va simplement montrer comment une telle IA entraînée à partir de données humaines peut être plus juste que chaque agent humain considéré indépendamment, mais comment la décision collective des agents (telle qu'elle nous a été rapporté en matière de GdM) peut néanmoins être plus juste que l'IA. \n",
    "\n",
    "On suppose ici qu'il existe une forme de consensus entre experts, qui n'est pas indépendant de la nature humaine et de ces émotions.\n",
    "Nous générerons d'avance cet \"humain moyen\" hypothétique.\n",
    "Il va nous permettre de représenter en partie ce fait que l'IA est entraînée à partir des avis de nombreux experts, et qu'elle constitue ainsi une reproduction sans hésitation de cet expert moyen, particulièrement fiable.\n"
   ]
  },
  {
   "cell_type": "markdown",
   "id": "71ec0bc7-4e9b-4032-a1f7-81cf674fe208",
   "metadata": {},
   "source": [
    "## Construction de la simulation"
   ]
  },
  {
   "cell_type": "code",
   "execution_count": 1,
   "id": "0e1e91ee-228b-4ded-9254-295ce82d53ba",
   "metadata": {},
   "outputs": [],
   "source": [
    "# Import des bibliothèques nécessaires\n",
    "import numpy as np\n",
    "from numpy import random\n",
    "from cachetools import cached # pour l'efficacité des calculs\n",
    "from tqdm import tqdm # permet d'afficher la progression des calculs sur votre écran."
   ]
  },
  {
   "cell_type": "code",
   "execution_count": 2,
   "id": "72f4ba06-0052-44bf-b601-4520c37d2d65",
   "metadata": {},
   "outputs": [],
   "source": [
    "# Modèle de \"classifieur binaire\", qui va nous permettre de simuler\n",
    "# aussi bien la réalité terrain, que l'IA et les agents humains.\n",
    "# Chacun de ces classifieurs peut être statistiquement influencé par un autre.\n",
    "\n",
    "class VTernaryClassifier():\n",
    "    '''Cette classe vise à représenter des processus de prédiction, qu'il s'agissent d'IA ou d'humain, et par analogie la réalité que les deux tentent de prédire.\n",
    "    Elle est, comme eux, simulée ici de manière aléatoire.'''\n",
    "    instances = {} # mémoire nécessaire pour le système d'influence.\n",
    "    def __init__(self,name,correlates={},seed=None,p_neutral=None):\n",
    "        '''*correlates* est un dictionnaire nom-poids, \n",
    "        où le poids de l'influence d'un avis sur l'odds_ratio de la décision.\n",
    "        p_neutral représente la probabilité désirée d'indécision : \n",
    "        si l'on ne souhaite aucune indécision, laisser sur None.'''\n",
    "        if seed is None:\n",
    "            seed = random.randint(1000000)\n",
    "        self.seed = seed\n",
    "        self.correlates=correlates\n",
    "        self.name = name\n",
    "        self._check_integrity()\n",
    "        if p_neutral is not None:\n",
    "            # we turn p to odds now\n",
    "            assert p_neutral<.5\n",
    "            #raise Exception('Vous ne pouvez pas être aussi indécis, si ?')\n",
    "            self.neutral= abs(2-1/(p_neutral))-1 # le 2 signifie les odds de base des 2 alternatives\n",
    "        else:\n",
    "            self.neutral = None\n",
    "        VTernaryClassifier.instances[name] = self\n",
    "    \n",
    "    # méthode de classe, qui permet de récupérer une prédiction à partir du nom du classifieur.\n",
    "    @cached(cache={})\n",
    "    def get_pred(name,N=1):\n",
    "        return VTernaryClassifier.instances[name].pred(N)\n",
    "\n",
    "    def get_proba(self,i,N=1):\n",
    "        '''output:\n",
    "        proba_0, proba_1, proba_neutral'''\n",
    "        psum = 0\n",
    "        self._check_integrity()\n",
    "        for k,v in self.correlates.items():\n",
    "            r = 2*VTernaryClassifier.get_pred(k,N)[i]-1\n",
    "            if r is not np.nan:\n",
    "                psum += v*r\n",
    "        odd_0 = 1+max(0,-psum)\n",
    "        odd_1 = 1+max(0,psum)\n",
    "        K = odd_0+odd_1\n",
    "        if self.neutral is not None:\n",
    "            odd_0 += self.neutral*odd_0/K\n",
    "            odd_1 += self.neutral*odd_1/K\n",
    "            K = odd_0+odd_1+1\n",
    "        p_0, p_1 = odd_0/K, odd_1/K\n",
    "        return p_0, p_1, 1-p_0-p_1\n",
    "    \n",
    "    @cached(cache={})\n",
    "    def pred(self,N,i=None,mute=True):\n",
    "        if i is not None:\n",
    "            return self.pred(vdata)[i]\n",
    "        res = []\n",
    "        random.seed(seed=self.seed)\n",
    "        gen = range(N) if mute else tqdm(range(N))\n",
    "        for i in gen :\n",
    "            p_0, p_1, p_nan = self.get_proba(i,N)\n",
    "            dice = random.random()\n",
    "            res.append(0 if dice<=p_0 else 1 if dice<=p_0+p_1 else np.nan)\n",
    "        return np.array(res)\n",
    "    \n",
    "    def _check_integrity(self):\n",
    "        if self.name in self.correlates:\n",
    "            raise Exception('On ne se correle pas soi-même !')\n",
    "\n",
    "    def _clean_instances():\n",
    "        VTernaryClassifier.instances = {}"
   ]
  },
  {
   "cell_type": "code",
   "execution_count": 3,
   "id": "53f7ef80",
   "metadata": {},
   "outputs": [],
   "source": [
    "N=100 # on suppose qu'il y a 100 échos à classifier en mine/non-mine\n",
    "truth = VTernaryClassifier('reality').pred(N)"
   ]
  },
  {
   "cell_type": "markdown",
   "id": "6516fd16-61f0-4c92-ba74-12be05c261ac",
   "metadata": {},
   "source": [
    "Nous aurons un \"humain moyen\" avec une indécision relativement haute, ce qui mettra en exergue la liberté individuelle, puisqu'il y aura plus de lieu où c'est leur seule \"influence par la vérité\" qui va jouer, plutôt que l'influence par un consensus décisionnel clair."
   ]
  },
  {
   "cell_type": "code",
   "execution_count": 4,
   "id": "c0741b08-e079-4b9c-bf52-936ae2639b7a",
   "metadata": {},
   "outputs": [],
   "source": [
    "humain_moyen = VTernaryClassifier('moyen',\n",
    "                               correlates={'reality':6},\n",
    "                               p_neutral=.1)"
   ]
  },
  {
   "cell_type": "code",
   "execution_count": 5,
   "id": "3d613bf4-c334-4543-b888-43265f34b742",
   "metadata": {},
   "outputs": [],
   "source": [
    "ia = VTernaryClassifier('ia',correlates={'moyen':12,'reality':1})"
   ]
  },
  {
   "cell_type": "markdown",
   "id": "523fd3ed-e3e9-47c1-a083-5edda7aecb26",
   "metadata": {},
   "source": [
    "Nous aurons trois agents humains, plus ou moins indécis, avec un superviseur, appelé uniquement en cas de désaccord."
   ]
  },
  {
   "cell_type": "code",
   "execution_count": 6,
   "id": "542cbef9-06b6-4d2d-81fd-b1f803ccaf5a",
   "metadata": {},
   "outputs": [],
   "source": [
    "opérateur1 = VTernaryClassifier('o1',\n",
    "                               correlates={'reality':1.5,'moyen':4},\n",
    "                               p_neutral=.08)\n",
    "opérateur2 = VTernaryClassifier('o2',\n",
    "                               correlates={'reality':2,'moyen':5},\n",
    "                               p_neutral=.12)\n",
    "superviseur = VTernaryClassifier('sup',\n",
    "                               correlates={'reality':2.5,'moyen':5},\n",
    "                               p_neutral=.05)"
   ]
  },
  {
   "cell_type": "markdown",
   "id": "dcf79795-3688-40c4-97fc-f68616517355",
   "metadata": {},
   "source": [
    "## Mesures de justesse individuelles"
   ]
  },
  {
   "cell_type": "code",
   "execution_count": 7,
   "id": "fa1d30bc-67b6-41bf-abb4-5d1e153cf725",
   "metadata": {},
   "outputs": [],
   "source": [
    "def justesse(pred,truth):\n",
    "    return np.mean(pred[~np.isnan(pred)]==truth[~np.isnan(pred)])"
   ]
  },
  {
   "cell_type": "code",
   "execution_count": 8,
   "id": "0818a9fd-bb4b-43bb-bbeb-3ed04d6354e5",
   "metadata": {},
   "outputs": [],
   "source": [
    "justesses = [justesse(x.pred(N),truth) for x in [ia,opérateur1,opérateur2,superviseur]]"
   ]
  },
  {
   "cell_type": "code",
   "execution_count": 9,
   "id": "615974bb-9da2-4b83-82d6-20b070366215",
   "metadata": {},
   "outputs": [
    {
     "data": {
      "text/plain": [
       "[np.float64(0.71),\n",
       " np.float64(0.6989247311827957),\n",
       " np.float64(0.7263157894736842),\n",
       " np.float64(0.7346938775510204)]"
      ]
     },
     "execution_count": 9,
     "metadata": {},
     "output_type": "execute_result"
    }
   ],
   "source": [
    "justesses"
   ]
  },
  {
   "cell_type": "markdown",
   "id": "2435e390-48ff-4087-9772-5663bca8bb44",
   "metadata": {},
   "source": [
    "Nous avons ici un cas typique où l'IA a \"prouvé\" sa supériorité en imitant correctement un consensus humain, relativement maîtrisé (seulement) par les opérateurs en tant que collectif.\n",
    "(Ici, les indécisions ne sont pas comptées dans le calcul de la justesse.)"
   ]
  },
  {
   "cell_type": "markdown",
   "id": "4522f0ab-bfdf-444a-b683-852af8ebbc67",
   "metadata": {},
   "source": [
    "## L'union fait la force\n",
    "On veut désormais coder le processus de prise de décision collective utilisé dans le cas de nos opérateurs de GdM. J'appelle cette procédure un \"vote\", en ignorant pour l'instant la capacité du superviseur à surveiller les opérateurs et à les corriger tous les deux. \n",
    "Je pars d'une inférence au faux positifs pour les cas d'hésitation des opérateurs, comme du superviseur : cela correspond à comportement attendu en matière de gestion de risque, mais qui devrait dégrader la justesse des décisions."
   ]
  },
  {
   "cell_type": "code",
   "execution_count": 10,
   "id": "cf984a31-97bb-4ab4-84ef-218320d62392",
   "metadata": {},
   "outputs": [],
   "source": [
    "def fillna(pred,value):\n",
    "    pred[np.isnan(pred)] = value\n",
    "    return pred\n",
    "\n",
    "def vote(p1,p2,p3):\n",
    "    p1,p2,p3 = fillna(p1,1),fillna(p2,1),fillna(p3,1)\n",
    "    return np.quantile([p1,p2,p3],q=.5,axis=0)"
   ]
  },
  {
   "cell_type": "code",
   "execution_count": 11,
   "id": "b22c3829-4fee-42e9-9536-a6f09f96ad90",
   "metadata": {},
   "outputs": [],
   "source": [
    "decision_commune = vote(opérateur1.pred(N),opérateur2.pred(N),superviseur.pred(N))"
   ]
  },
  {
   "cell_type": "code",
   "execution_count": 12,
   "id": "87555d41-2dc2-4472-b302-d5de97c10dbb",
   "metadata": {},
   "outputs": [
    {
     "data": {
      "text/plain": [
       "array([0., 1., 1., 1., 0., 1., 1., 0., 1., 1., 0., 0., 1., 0., 0., 0., 0.,\n",
       "       1., 0., 0., 1., 0., 0., 1., 1., 0., 1., 0., 1., 0., 0., 1., 0., 0.,\n",
       "       0., 0., 0., 1., 1., 0., 1., 0., 0., 1., 1., 0., 0., 1., 1., 0., 1.,\n",
       "       1., 0., 1., 0., 1., 0., 1., 0., 1., 0., 1., 0., 1., 1., 1., 1., 1.,\n",
       "       1., 1., 0., 1., 1., 1., 0., 1., 1., 1., 0., 0., 0., 0., 1., 1., 1.,\n",
       "       1., 0., 0., 0., 0., 0., 0., 0., 0., 0., 1., 1., 0., 0., 1.])"
      ]
     },
     "execution_count": 12,
     "metadata": {},
     "output_type": "execute_result"
    }
   ],
   "source": [
    "decision_commune"
   ]
  },
  {
   "cell_type": "markdown",
   "id": "00fa2784-192d-43a0-a7fd-de5d314db1af",
   "metadata": {},
   "source": [
    "On n'a plus de \"nan\" (*Not a Number*) dans les résultats, on peut calculer leur justesse exactement."
   ]
  },
  {
   "cell_type": "code",
   "execution_count": 13,
   "id": "73a16f5b-dc5a-4c97-8a15-063a35a8862f",
   "metadata": {},
   "outputs": [
    {
     "data": {
      "text/plain": [
       "np.float64(0.77)"
      ]
     },
     "execution_count": 13,
     "metadata": {},
     "output_type": "execute_result"
    }
   ],
   "source": [
    "justesse(decision_commune,truth)"
   ]
  },
  {
   "cell_type": "code",
   "execution_count": 14,
   "id": "0ccabefb-7d73-40f9-8ebc-68bc0e364a43",
   "metadata": {},
   "outputs": [],
   "source": [
    "justesses = [justesse(fillna(x.pred(N),1),truth) for x in [ia,opérateur1,opérateur2,superviseur]]"
   ]
  },
  {
   "cell_type": "code",
   "execution_count": 15,
   "id": "8806a8b2-22a6-4c4b-a4cd-2f9465cdc758",
   "metadata": {},
   "outputs": [
    {
     "data": {
      "text/plain": [
       "[np.float64(0.71), np.float64(0.68), np.float64(0.73), np.float64(0.74)]"
      ]
     },
     "execution_count": 15,
     "metadata": {},
     "output_type": "execute_result"
    }
   ],
   "source": [
    "justesses"
   ]
  },
  {
   "cell_type": "markdown",
   "id": "9b5bef96-9870-47c8-ac4d-f8c53ec3cb20",
   "metadata": {},
   "source": [
    "Ici, on peut comparer les performances, avec l'inférence aux positifs.\n",
    "Attention : les performances des agents sont très aléatoires, vous le verrez si vous ré-éxécutez le document.\n",
    "\n",
    "Je vais donc répliquer l'expérience pour avoir des statistiques."
   ]
  },
  {
   "cell_type": "markdown",
   "id": "831b1ecc-f3f8-49eb-82f9-dc8242263e39",
   "metadata": {},
   "source": [
    "## Statistiques de performance"
   ]
  },
  {
   "cell_type": "code",
   "execution_count": 16,
   "id": "25407d31-d18c-46d1-a261-80f9b97da70f",
   "metadata": {},
   "outputs": [
    {
     "name": "stderr",
     "output_type": "stream",
     "text": [
      "100%|████████████████████████████████████████| 200/200 [00:00<00:00, 234.73it/s]\n"
     ]
    }
   ],
   "source": [
    "preds = []\n",
    "N = 200 # longueur du rail en décision\n",
    "N_simu = 200 # nb de reproduction de la simulation\n",
    "\n",
    "#VTernaryClassifier._clean_instances()\n",
    "\n",
    "common_truth = VTernaryClassifier('real').pred(N)\n",
    "\n",
    "justesses = []\n",
    "\n",
    "for i in tqdm(range(N_simu)):\n",
    "    humain_moyen = VTernaryClassifier('moyen'+str(i),\n",
    "                               correlates={'real':5},\n",
    "                               p_neutral=.1)\n",
    "    ia = VTernaryClassifier('ia'+str(i),\n",
    "                               correlates={'moyen'+str(i):10,'real':1},\n",
    "                               )\n",
    "    opérateur1 = VTernaryClassifier('o1'+str(i),\n",
    "                               correlates={'real':1.5,'moyen'+str(i):4},\n",
    "                               p_neutral=.08)\n",
    "    opérateur2 = VTernaryClassifier('o2'+str(i),\n",
    "                               correlates={'real':2,'moyen'+str(i):5},\n",
    "                               p_neutral=.12)\n",
    "    superviseur = VTernaryClassifier('sup'+str(i),\n",
    "                               correlates={'real':2.5,'moyen'+str(i):5},\n",
    "                               p_neutral=.05)\n",
    "    preds = [a.pred(N) for a in [ia,opérateur1,opérateur2,superviseur]]\n",
    "    decision_commune = vote(preds[1],preds[2],preds[3])\n",
    "    preds.append(decision_commune)\n",
    "    justesses.append([justesse(x,common_truth) for x in preds])\n",
    "    #VTernaryClassifier._clean_instances()\n",
    "    #VTernaryClassifier.instances['reality'] = truth\n"
   ]
  },
  {
   "cell_type": "code",
   "execution_count": 17,
   "id": "acbc5e54-6fe6-47bc-93b8-734765c0c011",
   "metadata": {},
   "outputs": [
    {
     "data": {
      "text/plain": [
       "<matplotlib.legend.Legend at 0x114d23980>"
      ]
     },
     "execution_count": 17,
     "metadata": {},
     "output_type": "execute_result"
    }
   ],
   "source": [
    "%matplotlib inline\n",
    "import matplotlib.pyplot as plt\n",
    "\n",
    "plt.hist(np.array(justesses)[:,0], bins=30,label='IA',alpha=.7)\n",
    "plt.hist(np.array(justesses)[:,-1], bins=30,label='vote_humain',alpha=.7)\n",
    "plt.legend()"
   ]
  },
  {
   "cell_type": "code",
   "execution_count": 18,
   "id": "72a4f50e-5617-4ffd-9d00-5c659dccee27",
   "metadata": {},
   "outputs": [
    {
     "data": {
      "text/plain": [
       "array([0.7821 , 0.74385, 0.75745, 0.7706 , 0.8111 ])"
      ]
     },
     "execution_count": 18,
     "metadata": {},
     "output_type": "execute_result"
    }
   ],
   "source": [
    "np.mean(justesses,axis=0)"
   ]
  },
  {
   "cell_type": "markdown",
   "id": "0b069b1a-2e93-45e3-b1b4-c45ae03221c6",
   "metadata": {},
   "source": [
    "Ces derniers résultats montrent les performances moyennes de l'IA, dees trois agents humains, et enfin de la décision humaine collective, qui dépasse l'IA, comme le laissait voir l'histogramme."
   ]
  },
  {
   "cell_type": "code",
   "execution_count": null,
   "id": "6d639c9a-1254-4a0a-a8ae-2ad77eaeb81d",
   "metadata": {},
   "outputs": [],
   "source": []
  }
 ],
 "metadata": {
  "kernelspec": {
   "display_name": "Python 3 (ipykernel)",
   "language": "python",
   "name": "python3"
  },
  "language_info": {
   "codemirror_mode": {
    "name": "ipython",
    "version": 3
   },
   "file_extension": ".py",
   "mimetype": "text/x-python",
   "name": "python",
   "nbconvert_exporter": "python",
   "pygments_lexer": "ipython3",
   "version": "3.12.9"
  }
 },
 "nbformat": 4,
 "nbformat_minor": 5
}
